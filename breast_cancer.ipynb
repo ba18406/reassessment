{
  "nbformat": 4,
  "nbformat_minor": 0,
  "metadata": {
    "colab": {
      "name": "Untitled1.ipynb",
      "provenance": [],
      "authorship_tag": "ABX9TyOOKX49vS2XIyZ0xNbr2JOi",
      "include_colab_link": true
    },
    "kernelspec": {
      "name": "python3",
      "display_name": "Python 3"
    }
  },
  "cells": [
    {
      "cell_type": "markdown",
      "metadata": {
        "id": "view-in-github",
        "colab_type": "text"
      },
      "source": [
        "<a href=\"https://colab.research.google.com/github/ba18406/reassessment/blob/master/breast_cancer.ipynb\" target=\"_parent\"><img src=\"https://colab.research.google.com/assets/colab-badge.svg\" alt=\"Open In Colab\"/></a>"
      ]
    },
    {
      "cell_type": "code",
      "metadata": {
        "id": "xyU2dHKJtEDL",
        "colab_type": "code",
        "colab": {}
      },
      "source": [
        "https://modal-python.readthedocs.io/en/latest/content/examples/pool-based_sampling.html"
      ],
      "execution_count": null,
      "outputs": []
    },
    {
      "cell_type": "code",
      "metadata": {
        "id": "0RzRKSpF7-k6",
        "colab_type": "code",
        "colab": {}
      },
      "source": [
        "import numpy as np\n",
        "\n",
        "# Set our RNG seed for reproducibility.\n",
        "RANDOM_STATE_SEED = 123\n",
        "np.random.seed(RANDOM_STATE_SEED)"
      ],
      "execution_count": null,
      "outputs": []
    },
    {
      "cell_type": "code",
      "metadata": {
        "id": "jLtVY_-St_1d",
        "colab_type": "code",
        "colab": {}
      },
      "source": [
        "from sklearn.datasets import load_breast_cancer\n",
        "\n",
        "breast_cancer = load_breast_cancer()\n",
        "X_raw = breast_cancer['data']\n",
        "y_raw = breast_cancer['target']"
      ],
      "execution_count": null,
      "outputs": []
    },
    {
      "cell_type": "code",
      "metadata": {
        "id": "0yy8zJijujec",
        "colab_type": "code",
        "colab": {}
      },
      "source": [
        "from sklearn.decomposition import PCA\n",
        "\n",
        "# Define our PCA transformer and fit it onto our raw dataset.\n",
        "pca = PCA(n_components=2, random_state=RANDOM_STATE_SEED)\n",
        "transformed_breast_cancer = pca.fit_transform(X=X_raw)"
      ],
      "execution_count": null,
      "outputs": []
    },
    {
      "cell_type": "code",
      "metadata": {
        "id": "7wUql1nqutXn",
        "colab_type": "code",
        "colab": {}
      },
      "source": [
        "%matplotlib inline\n",
        "import matplotlib as mpl\n",
        "import matplotlib.pyplot as plt\n",
        "\n",
        "# Isolate the data we'll need for plotting.\n",
        "x_component, y_component = transformed_breast_cancer[:, 0], transformed_breast_cancer[:, 1]\n",
        "\n",
        "# Plot our dimensionality-reduced (via PCA) dataset.\n",
        "plt.figure(figsize=(8.5, 6), dpi=130)\n",
        "plt.scatter(x=x_component, y=y_component, c=y_raw, cmap='viridis', s=50, alpha=8/10)\n",
        "plt.title('breast_cancer classes after PCA transformation')\n",
        "plt.show()"
      ],
      "execution_count": null,
      "outputs": []
    },
    {
      "cell_type": "code",
      "metadata": {
        "id": "h7yuS_WGu8WB",
        "colab_type": "code",
        "colab": {}
      },
      "source": [
        "# Isolate our examples for our labeled dataset.\n",
        "n_labeled_examples = X_raw.shape[0]\n",
        "training_indices = np.random.randint(low=0, high=n_labeled_examples + 1, size=3)\n",
        "\n",
        "X_train = X_raw[training_indices]\n",
        "y_train = y_raw[training_indices]\n",
        "\n",
        "# Isolate the non-training examples we'll be querying.\n",
        "X_pool = np.delete(X_raw, training_indices, axis=0)\n",
        "y_pool = np.delete(y_raw, training_indices, axis=0)"
      ],
      "execution_count": null,
      "outputs": []
    },
    {
      "cell_type": "code",
      "metadata": {
        "id": "mZrn3dNJvHiO",
        "colab_type": "code",
        "colab": {}
      },
      "source": [
        "from sklearn.neighbors import KNeighborsClassifier\n",
        "from modAL.models import ActiveLearner\n",
        "\n",
        "# Specify our core estimator along with it's active learning model.\n",
        "knn = KNeighborsClassifier(n_neighbors=3)\n",
        "learner = ActiveLearner(estimator=knn, X_training=X_train, y_training=y_train)"
      ],
      "execution_count": null,
      "outputs": []
    },
    {
      "cell_type": "code",
      "metadata": {
        "id": "MZRvUNGRvTXo",
        "colab_type": "code",
        "colab": {}
      },
      "source": [
        "# Isolate the data we'll need for plotting.\n",
        "predictions = learner.predict(X_raw)\n",
        "is_correct = (predictions == y_raw)\n",
        "\n",
        "predictions"
      ],
      "execution_count": null,
      "outputs": []
    },
    {
      "cell_type": "code",
      "metadata": {
        "id": "16lUI3LIvYTj",
        "colab_type": "code",
        "colab": {}
      },
      "source": [
        "# Record our learner's score on the raw data.\n",
        "unqueried_score = learner.score(X_raw, y_raw)\n",
        "\n",
        "# Plot our classification results.\n",
        "fig, ax = plt.subplots(figsize=(8.5, 6), dpi=130)\n",
        "ax.scatter(x=x_component[is_correct],  y=y_component[is_correct],  c='g', marker='+', label='Correct',   alpha=8/10)\n",
        "ax.scatter(x=x_component[~is_correct], y=y_component[~is_correct], c='r', marker='x', label='Incorrect', alpha=8/10)\n",
        "ax.legend(loc='lower right')\n",
        "ax.set_title(\"ActiveLearner class predictions (Accuracy: {score:.3f})\".format(score=unqueried_score))\n",
        "plt.show()"
      ],
      "execution_count": null,
      "outputs": []
    },
    {
      "cell_type": "code",
      "metadata": {
        "id": "xMLB1K9wvmRY",
        "colab_type": "code",
        "colab": {}
      },
      "source": [
        "N_QUERIES = 20\n",
        "performance_history = [unqueried_score]\n",
        "\n",
        "# Allow our model to query our unlabeled dataset for the most\n",
        "# informative points according to our query strategy (uncertainty sampling).\n",
        "for index in range(N_QUERIES):\n",
        "  query_index, query_instance = learner.query(X_pool)\n",
        "\n",
        "  # Teach our ActiveLearner model the record it has requested.\n",
        "  X, y = X_pool[query_index].reshape(1, -1), y_pool[query_index].reshape(1, )\n",
        "  learner.teach(X=X, y=y)\n",
        "\n",
        "  # Remove the queried instance from the unlabeled pool.\n",
        "  X_pool, y_pool = np.delete(X_pool, query_index, axis=0), np.delete(y_pool, query_index)\n",
        "\n",
        "  # Calculate and report our model's accuracy.\n",
        "  model_accuracy = learner.score(X_raw, y_raw)\n",
        "  print('Accuracy after query {n}: {acc:0.4f}'.format(n=index + 1, acc=model_accuracy))\n",
        "\n",
        "  # Save our model's performance for plotting.\n",
        "  performance_history.append(model_accuracy)"
      ],
      "execution_count": null,
      "outputs": []
    },
    {
      "cell_type": "code",
      "metadata": {
        "id": "WYQhB1W4vu5X",
        "colab_type": "code",
        "colab": {}
      },
      "source": [
        "# Plot our performance over time.\n",
        "fig, ax = plt.subplots(figsize=(8.5, 6), dpi=130)\n",
        "\n",
        "ax.plot(performance_history)\n",
        "ax.scatter(range(len(performance_history)), performance_history, s=13)\n",
        "\n",
        "ax.xaxis.set_major_locator(mpl.ticker.MaxNLocator(nbins=5, integer=True))\n",
        "ax.yaxis.set_major_locator(mpl.ticker.MaxNLocator(nbins=10))\n",
        "ax.yaxis.set_major_formatter(mpl.ticker.PercentFormatter(xmax=1))\n",
        "\n",
        "ax.set_ylim(bottom=0, top=1)\n",
        "ax.grid(True)\n",
        "\n",
        "ax.set_title('Incremental classification accuracy')\n",
        "ax.set_xlabel('Query iteration')\n",
        "ax.set_ylabel('Classification Accuracy')\n",
        "\n",
        "plt.show()"
      ],
      "execution_count": null,
      "outputs": []
    },
    {
      "cell_type": "code",
      "metadata": {
        "id": "2uA2ckGev1uP",
        "colab_type": "code",
        "colab": {}
      },
      "source": [
        "# Isolate the data we'll need for plotting.\n",
        "predictions = learner.predict(X_raw)\n",
        "is_correct = (predictions == y_raw)\n",
        "\n",
        "# Plot our updated classification results once we've trained our learner.\n",
        "fig, ax = plt.subplots(figsize=(8.5, 6), dpi=130)\n",
        "\n",
        "ax.scatter(x=x_component[is_correct],  y=y_component[is_correct],  c='g', marker='+', label='Correct',   alpha=8/10)\n",
        "ax.scatter(x=x_component[~is_correct], y=y_component[~is_correct], c='r', marker='x', label='Incorrect', alpha=8/10)\n",
        "\n",
        "ax.set_title('Classification accuracy after {n} queries: {final_acc:.3f}'.format(n=N_QUERIES, final_acc=performance_history[-1]))\n",
        "ax.legend(loc='lower right')\n",
        "\n",
        "plt.show()"
      ],
      "execution_count": null,
      "outputs": []
    }
  ]
}